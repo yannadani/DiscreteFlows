{
 "cells": [
  {
   "cell_type": "markdown",
   "metadata": {},
   "source": [
    "Parts of this notebook are taken from Andre Karpathy: https://github.com/karpathy/pytorch-normalizing-flows/blob/master/nflib1.ipynb\n",
    "and have been modified. "
   ]
  },
  {
   "cell_type": "code",
   "execution_count": 1,
   "metadata": {},
   "outputs": [],
   "source": [
    "%matplotlib inline\n",
    "import numpy as np\n",
    "import matplotlib.pyplot as plt\n",
    "from matplotlib import cm\n",
    "from matplotlib import figure\n",
    "from matplotlib.backends import backend_agg\n",
    "from scipy.stats import multivariate_normal\n",
    "import torch\n",
    "import itertools"
   ]
  },
  {
   "cell_type": "code",
   "execution_count": 2,
   "metadata": {},
   "outputs": [],
   "source": [
    "# importing all of the normalizing flows. \n",
    "from nflib import utils\n",
    "from nflib.MADE import *\n",
    "from nflib.nets import MLP\n",
    "from nflib.discrete_flow import *"
   ]
  },
  {
   "cell_type": "markdown",
   "metadata": {},
   "source": [
    "## Generating the training data. A 2D Gaussian. \n",
    "Storing the data as variable \"data\" which will then be sampled from. "
   ]
  },
  {
   "cell_type": "code",
   "execution_count": 3,
   "metadata": {},
   "outputs": [],
   "source": [
    "def sample_quantized_gaussian_mixture(batch_size):\n",
    "  \"\"\"Samples data from a 2D quantized mixture of Gaussians.\n",
    "  This is a quantized version of the mixture of Gaussians experiment from the\n",
    "  Unrolled GANS paper (Metz et al., 2017).\n",
    "  Args:\n",
    "    batch_size: The total number of observations.\n",
    "  Returns:\n",
    "    Tensor with shape `[batch_size, 2]`, where each entry is in\n",
    "      `{0, 1, ..., max_quantized_value - 1}`, a rounded sample from a mixture\n",
    "      of Gaussians.\n",
    "  \"\"\"\n",
    "  clusters = np.array([[2., 0.], [np.sqrt(2), np.sqrt(2)],\n",
    "                       [0., 2.], [-np.sqrt(2), np.sqrt(2)],\n",
    "                       [-2., 0.], [-np.sqrt(2), -np.sqrt(2)],\n",
    "                       [0., -2.], [np.sqrt(2), -np.sqrt(2)]])\n",
    "  assignments = torch.distributions.OneHotCategorical(\n",
    "      logits=torch.zeros(8, dtype = torch.float32)).sample([batch_size])\n",
    "  means = torch.matmul(assignments, torch.from_numpy(clusters).float())\n",
    "\n",
    "  samples = torch.distributions.normal.Normal(loc=means, scale=0.1).sample()\n",
    "  clipped_samples = torch.clamp(samples, -2.25, 2.25)\n",
    "  quantized_samples = (torch.round(clipped_samples * 20) + 45).long()\n",
    "  return quantized_samples"
   ]
  },
  {
   "cell_type": "code",
   "execution_count": 4,
   "metadata": {},
   "outputs": [],
   "source": [
    "batch_size, data_size, num_classes = 1024, 2, 91\n",
    "data = sample_quantized_gaussian_mixture(1024)"
   ]
  },
  {
   "cell_type": "markdown",
   "metadata": {},
   "source": [
    "## Generating an example onehot sample of the data:"
   ]
  },
  {
   "cell_type": "code",
   "execution_count": 5,
   "metadata": {},
   "outputs": [
    {
     "data": {
      "text/plain": [
       "Text(0.5, 1.0, 'Data Distribution')"
      ]
     },
     "execution_count": 5,
     "metadata": {},
     "output_type": "execute_result"
    },
    {
     "data": {
      "image/png": "[encoded data removed]",
      "text/plain": [
       "<Figure size 432x432 with 1 Axes>"
      ]
     },
     "metadata": {
      "needs_background": "light"
     },
     "output_type": "display_data"
    }
   ],
   "source": [
    "figsize = (6, 6)\n",
    "fig = fig = plt.figure(figsize=figsize)\n",
    "ax = fig.add_subplot(1,1,1)\n",
    "#canvas = backend_agg.FigureCanvasAgg(fig)\n",
    "data_prob_table = np.histogramdd(data, bins=num_classes)\n",
    "ax.imshow(data_prob_table[0]/np.sum(data_prob_table[0]),\n",
    "             cmap=cm.get_cmap(\"Blues\", 6),\n",
    "             origin=\"lower\",\n",
    "             extent=[0, num_classes, 0, num_classes],\n",
    "             interpolation=\"nearest\")\n",
    "#fig.show()\n",
    "ax.set_title(\"Data Distribution\")\n"
   ]
  },
  {
   "cell_type": "markdown",
   "metadata": {},
   "source": [
    "## Generating the model"
   ]
  },
  {
   "cell_type": "code",
   "execution_count": 6,
   "metadata": {},
   "outputs": [],
   "source": [
    "class EmbeddingNetwork(nn.Module):\n",
    "  \"\"\"Autoregressive network which uniquely embeds each combination.\"\"\"\n",
    "\n",
    "  def __init__(self, input_shape, output_size=None):\n",
    "    \"\"\"Initializes Embedding network.\n",
    "    Args:\n",
    "      output_size: Embedding output dimension. When `None`, `output_size`\n",
    "        defaults to `vocab_size`, which are used for loc/scale modular networks.\n",
    "        Sinkhorn networks require `output_size` to be `vocab_size ** 2`.\n",
    "    \"\"\"\n",
    "    super(EmbeddingNetwork, self).__init__()\n",
    "    self.output_size = output_size\n",
    "    data_size = input_shape[-2]\n",
    "    num_classes = input_shape[-1]\n",
    "    if self.output_size is None:\n",
    "      self.output_size = num_classes\n",
    "    self.embeddings = nn.ModuleList()\n",
    "    for dim in range(1, data_size):\n",
    "      # Make each possible history unique by converting to a base 10 integer.\n",
    "      embedding_layer = nn.Embedding(\n",
    "          num_classes ** dim,\n",
    "          self.output_size)\n",
    "      self.embeddings.append(embedding_layer)\n",
    "\n",
    "  def forward(self, inputs, initial_state=None):\n",
    "    \"\"\"Returns Tensor of shape [..., data_size, output_size].\n",
    "    Args:\n",
    "      inputs: Tensor of shape [..., data_size, vocab_size].\n",
    "      initial_state: `Tensor` of initial states corresponding to encoder output.\n",
    "    \"\"\"\n",
    "    num_classes = inputs.shape[-1]\n",
    "    sparse_inputs = torch.argmax(inputs, axis=-1)\n",
    "    location_logits = [torch.zeros([sparse_inputs.shape[0], self.output_size])]\n",
    "    for dim, embedding_layer in enumerate(self.embeddings, 1):\n",
    "      powers = torch.pow(num_classes, torch.arange(dim)).unsqueeze(0)\n",
    "      embedding_indices = torch.sum(  # (batch_size,)\n",
    "          sparse_inputs[:, :dim] * powers, axis=1)\n",
    "      location_logits.append(embedding_layer(embedding_indices))\n",
    "\n",
    "    location_logits = torch.stack(location_logits, axis=1)\n",
    "    return location_logits\n"
   ]
  },
  {
   "cell_type": "code",
   "execution_count": 7,
   "metadata": {},
   "outputs": [],
   "source": [
    "\n",
    "temperature = 0.1 # used for the straight-through gradient estimator. Value taken from the paper\n",
    "#flows = []"
   ]
  },
  {
   "cell_type": "code",
   "execution_count": 8,
   "metadata": {},
   "outputs": [],
   "source": [
    "layer = EmbeddingNetwork([batch_size, data_size, num_classes], num_classes)    \n",
    "disc_layer = DiscreteAutoregressiveFlow(layer, temperature, num_classes)\n",
    "model = disc_layer\n",
    "    \n",
    "#model = DiscreteAutoFlowModel(flows)"
   ]
  },
  {
   "cell_type": "markdown",
   "metadata": {},
   "source": [
    "## Converting into a proper probability distribution"
   ]
  },
  {
   "cell_type": "code",
   "execution_count": 9,
   "metadata": {},
   "outputs": [
    {
     "name": "stderr",
     "output_type": "stream",
     "text": [
      "/lustre/home/ayashas/mt/mt-env/lib/python3.7/site-packages/ipykernel_launcher.py:1: UserWarning: To copy construct from a tensor, it is recommended to use sourceTensor.clone().detach() or sourceTensor.clone().detach().requires_grad_(True), rather than torch.tensor(sourceTensor).\n",
      "  \"\"\"Entry point for launching an IPython kernel.\n"
     ]
    }
   ],
   "source": [
    "\n",
    "base_log_probs = torch.tensor(torch.randn(data_size, num_classes), requires_grad = True)\n",
    "base = torch.distributions.OneHotCategorical(logits = base_log_probs)\n",
    "\n"
   ]
  },
  {
   "cell_type": "code",
   "execution_count": 10,
   "metadata": {},
   "outputs": [
    {
     "name": "stdout",
     "output_type": "stream",
     "text": [
      "epoch: 0 loss: 10.186023700749502\n",
      "epoch: 100 loss: 8.298782746307552\n",
      "epoch: 200 loss: 7.510354370577261\n",
      "epoch: 300 loss: 7.224664193345234\n",
      "epoch: 400 loss: 7.134498035535216\n",
      "epoch: 500 loss: 7.105601985473186\n",
      "epoch: 600 loss: 7.055416360730305\n",
      "epoch: 700 loss: 7.00999439554289\n",
      "epoch: 800 loss: 7.039519424317405\n",
      "epoch: 900 loss: 7.054449629038572\n"
     ]
    },
    {
     "data": {
      "text/plain": [
       "[<matplotlib.lines.Line2D at 0x1530d8157400>]"
      ]
     },
     "execution_count": 10,
     "metadata": {},
     "output_type": "execute_result"
    },
    {
     "data": {
      "image/png": "[encoded data removed]",
      "text/plain": [
       "<Figure size 432x288 with 1 Axes>"
      ]
     },
     "metadata": {
      "needs_background": "light"
     },
     "output_type": "display_data"
    }
   ],
   "source": [
    "epochs = 1000\n",
    "learning_rate = 0.01\n",
    "print_loss_every = epochs//10\n",
    "\n",
    "#base_log_probs = torch.tensor( base.logits.detach().numpy() , requires_grad=True)\n",
    "\n",
    "losses = []\n",
    "optimizer = torch.optim.Adam( \n",
    "        [\n",
    "            {'params': model.parameters() , 'lr':learning_rate},\n",
    "            {'params': base_log_probs, 'lr': learning_rate }\n",
    "        ])\n",
    "\n",
    "model.train()\n",
    "for e in range(epochs):\n",
    "    x = sample_quantized_gaussian_mixture(batch_size)\n",
    "    x = F.one_hot(x, num_classes = num_classes).double()\n",
    "    x = x.flip([-2])\n",
    "    optimizer.zero_grad()\n",
    "    zs = model.forward(x)\n",
    "    \n",
    "    base_log_probs_sm = torch.nn.functional.log_softmax(base_log_probs, dim=-1)\n",
    "    logprob = zs*base_log_probs_sm\n",
    "    loss = -torch.sum(logprob)/batch_size\n",
    "    \n",
    "    loss.backward()\n",
    "    optimizer.step()\n",
    "    \n",
    "    losses.append(loss.item())\n",
    "    \n",
    "    if e%print_loss_every==0:\n",
    "        #print(base_log_probs_[0])\n",
    "        print('epoch:', e, 'loss:', loss.item())\n",
    "\n",
    "plt.plot(losses)"
   ]
  },
  {
   "cell_type": "code",
   "execution_count": 13,
   "metadata": {},
   "outputs": [
    {
     "data": {
      "image/png": "[encoded data removed]",
      "text/plain": [
       "<Figure size 864x432 with 2 Axes>"
      ]
     },
     "metadata": {
      "needs_background": "light"
     },
     "output_type": "display_data"
    }
   ],
   "source": [
    "data_distribution = torch.distributions.OneHotCategorical(logits=base_log_probs)\n",
    "samples = data_distribution.sample([1024])\n",
    "samples = model.reverse(samples)\n",
    "data_samples = torch.argmax(samples, axis=-1).detach().numpy()\n",
    "figsize = (12, 6)\n",
    "fig = plt.figure(figsize=figsize)\n",
    "ax1 = fig.add_subplot(1, 2, 1)\n",
    "ax2 = fig.add_subplot(1, 2, 2)\n",
    "data_prob_table = np.histogramdd(data, bins=num_classes)\n",
    "ax1.imshow(data_prob_table[0]/np.sum(data_prob_table[0]),\n",
    "         cmap=cm.get_cmap(\"Blues\", 6),\n",
    "         origin=\"lower\",\n",
    "         extent=[0, num_classes, 0, num_classes],\n",
    "         interpolation=\"nearest\")\n",
    "ax1.set_title(\"Data Distribution\")\n",
    "ax2.set_title(\"{} ({} {} Flows)\".format(\n",
    "  \"factorized\".replace(\"_\", \" \").title(),\n",
    "  \"embedding\".title(),\n",
    "  1))\n",
    "learned_prob_table = np.histogramdd(data_samples, bins=num_classes)\n",
    "ax2.imshow(learned_prob_table[0]/np.sum(learned_prob_table[0]),\n",
    "         cmap=cm.get_cmap(\"Blues\", 6),\n",
    "         origin=\"lower\",\n",
    "         extent=[0, num_classes, 0, num_classes],\n",
    "         interpolation=\"nearest\")\n",
    "fig.show()\n"
   ]
  },
  {
   "cell_type": "code",
   "execution_count": null,
   "metadata": {},
   "outputs": [],
   "source": []
  }
 ],
 "metadata": {
  "kernelspec": {
   "display_name": "Python 3",
   "language": "python",
   "name": "python3"
  },
  "language_info": {
   "codemirror_mode": {
    "name": "ipython",
    "version": 3
   },
   "file_extension": ".py",
   "mimetype": "text/x-python",
   "name": "python",
   "nbconvert_exporter": "python",
   "pygments_lexer": "ipython3",
   "version": "3.7.3"
  }
 },
 "nbformat": 4,
 "nbformat_minor": 4
}
